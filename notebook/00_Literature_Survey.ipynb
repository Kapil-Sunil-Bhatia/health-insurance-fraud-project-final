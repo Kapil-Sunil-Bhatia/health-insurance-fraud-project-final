{
 "cells": [
  {
   "cell_type": "markdown",
   "metadata": {},
   "source": [
    "## Self-Case Study -1: Healthcare Provider Fraud Detection Analysis"
   ]
  },
  {
   "cell_type": "markdown",
   "metadata": {},
   "source": [
    "## Introduction:"
   ]
  },
  {
   "cell_type": "markdown",
   "metadata": {},
   "source": [
    "#### What is Healthcare Fraud?\n",
    "Fraud is defined as any deliberate and dishonest act committed with the knowledge that it could result in an unauthorized benefit to the person committing the act or someone else who is similarly not entitled to the benefit. Healthcare fraud is one of the types of fraud.\n",
    "Here we will analyze and detect “Healthcare Claim Fraud” where the provider fills all the details and makes a claim on behalf of the beneficiary. Provider Fraud is one of the biggest problems that Medicare is facing currently.  Healthcare fraud is an organized crime which involves peers of providers, physicians, beneficiaries acting together to make fraud claims.\n",
    "As per the U.S. legislation, an insurance company should pay a legitimate healthcare claim within 30 days. So, there is very less time to properly investigate this. Insurance companies are the most vulnerable institutions impacted due to these bad practices.  As per the Government, the total Medicare spending increased exponentially due to frauds in Medicare claims. \n",
    "\n",
    "Healthcare fraud and abuse take many forms. Some of the most common types of frauds by providers are:\n",
    "a)\tBilling for services that were not provided.\n",
    "b)\tDuplicate submission of a claim for the same service.\n",
    "c)\tMisrepresenting the service provided.\n",
    "d)\tCharging for a more complex or expensive service than was actually provided.\n",
    "e)\tBilling for a covered service when the service actually provided was not covered."
   ]
  },
  {
   "cell_type": "markdown",
   "metadata": {},
   "source": [
    "## Business Problem:"
   ]
  },
  {
   "cell_type": "markdown",
   "metadata": {},
   "source": [
    "Statistics shows that 15% of the total medicare expense are caused due to fraud claims. Insurance companies are the most vulnerable institutions impacted due to these bad practices. Insuarance premium is also increasing day by day due to this bad practice. \n",
    "\n",
    "Our objective is to predict whether a provider is potentially fraudulent or probability score of that provider's fradulent activity and also find the reasons behind it as well to prevent the financial loss.\n",
    "\n",
    "Depending on the probability score and fradulent reasons insurance company can accept or deny the claim or set up an investigation on that provider.\n",
    "\n",
    "Find out the important features which are the reasons behind the potentially fraudlent providers. Such as if claim amount is high for a patient whose risk score is low, then it is suspicious.\n",
    "\n",
    "Not only the financial loss is a great concern but also to protect the healthcare system so that they can provide quality and safe care to legitimate patients."
   ]
  },
  {
   "cell_type": "markdown",
   "metadata": {},
   "source": [
    "## ML Formulation:"
   ]
  },
  {
   "cell_type": "markdown",
   "metadata": {},
   "source": [
    "Build a binary classification model based on the claims filled by the provider along with Inpatient data, Outpatient data, Beneficiary details to predict whether the provider is potentially fraudulent or not."
   ]
  },
  {
   "cell_type": "markdown",
   "metadata": {},
   "source": [
    "## Business Constraints:\n",
    "\n",
    "1. Cost of misclassification is very high. False Negative and False Positive should be as low as possible.If fraudulent providers are predicted as non-fraudulent (False Negative) it is a huge financial loss to the insurer and if legitimate providers are predicted as fraudulent (False Positive) it will cost for investigation and also it's a matter of reputation of the agency.\n",
    "2. Model interpretability is very important because the agency or insurer should justify that fraudulent activity and may need to setup a manual investigation. It should not be a black box type prediction.\n",
    "3. Insurer should pay the claim amount to the provider for legitimate claims within 30 days. So, there is no such strict latency constraints but it should not take more than a day because depending on the output of the model the agency may need to setup an investigation."
   ]
  },
  {
   "cell_type": "code",
   "execution_count": 1,
   "metadata": {},
   "outputs": [
    {
     "name": "stdout",
     "output_type": "stream",
     "text": [
      "archive\\Test-1542969243754.csv\n",
      "archive\\Test_Beneficiarydata-1542969243754.csv\n",
      "archive\\Test_Inpatientdata-1542969243754.csv\n",
      "archive\\Test_Outpatientdata-1542969243754.csv\n",
      "archive\\Train-1542865627584.csv\n",
      "archive\\Train_Beneficiarydata-1542865627584.csv\n",
      "archive\\Train_Inpatientdata-1542865627584.csv\n",
      "archive\\Train_Outpatientdata-1542865627584.csv\n"
     ]
    }
   ],
   "source": [
    "import os\n",
    "for dirname, _, filenames in os.walk('archive'):\n",
    "    for filename in filenames:\n",
    "        print(os.path.join(dirname, filename))"
   ]
  },
  {
   "cell_type": "markdown",
   "metadata": {},
   "source": [
    "## Dataset column analysis:"
   ]
  },
  {
   "cell_type": "code",
   "execution_count": 2,
   "metadata": {},
   "outputs": [],
   "source": [
    "import pandas as pd\n",
    "\n",
    "Train = pd.read_csv(\"archive/Train-1542865627584.csv\")\n",
    "Train_Beneficiary = pd.read_csv(\"archive/Train_Beneficiarydata-1542865627584.csv\")\n",
    "Train_Inpatient = pd.read_csv(\"archive/Train_Inpatientdata-1542865627584.csv\")\n",
    "Train_Outpatient = pd.read_csv(\"archive/Train_Outpatientdata-1542865627584.csv\")"
   ]
  },
  {
   "cell_type": "code",
   "execution_count": 3,
   "metadata": {},
   "outputs": [],
   "source": [
    "Test = pd.read_csv(\"archive/Test-1542969243754.csv\")\n",
    "Test_Beneficiary = pd.read_csv(\"archive/Test_Beneficiarydata-1542969243754.csv\")\n",
    "Test_Inpatient = pd.read_csv(\"archive/Test_Inpatientdata-1542969243754.csv\")\n",
    "Test_Outpatient = pd.read_csv(\"archive/Test_Outpatientdata-1542969243754.csv\")"
   ]
  },
  {
   "cell_type": "code",
   "execution_count": 4,
   "metadata": {},
   "outputs": [
    {
     "data": {
      "text/plain": [
       "Index(['Provider', 'PotentialFraud'], dtype='object')"
      ]
     },
     "execution_count": 4,
     "metadata": {},
     "output_type": "execute_result"
    }
   ],
   "source": [
    "Train.columns"
   ]
  },
  {
   "cell_type": "markdown",
   "metadata": {},
   "source": [
    "#### Train-1542865627584.csv:\n",
    "It consists of provider number and corresponding whether this provider is potentially fraud. Provider ID is the primary key in that table."
   ]
  },
  {
   "cell_type": "code",
   "execution_count": 5,
   "metadata": {},
   "outputs": [
    {
     "data": {
      "text/plain": [
       "Index(['Provider'], dtype='object')"
      ]
     },
     "execution_count": 5,
     "metadata": {},
     "output_type": "execute_result"
    }
   ],
   "source": [
    "Test.columns"
   ]
  },
  {
   "cell_type": "markdown",
   "metadata": {},
   "source": [
    "#### Test-1542969243754.csv:\n",
    "It consists of only the provider number. We need to predict whether these providers are potentially fraud or not."
   ]
  },
  {
   "cell_type": "code",
   "execution_count": 6,
   "metadata": {},
   "outputs": [
    {
     "data": {
      "text/plain": [
       "Index(['BeneID', 'ClaimID', 'ClaimStartDt', 'ClaimEndDt', 'Provider',\n",
       "       'InscClaimAmtReimbursed', 'AttendingPhysician', 'OperatingPhysician',\n",
       "       'OtherPhysician', 'ClmDiagnosisCode_1', 'ClmDiagnosisCode_2',\n",
       "       'ClmDiagnosisCode_3', 'ClmDiagnosisCode_4', 'ClmDiagnosisCode_5',\n",
       "       'ClmDiagnosisCode_6', 'ClmDiagnosisCode_7', 'ClmDiagnosisCode_8',\n",
       "       'ClmDiagnosisCode_9', 'ClmDiagnosisCode_10', 'ClmProcedureCode_1',\n",
       "       'ClmProcedureCode_2', 'ClmProcedureCode_3', 'ClmProcedureCode_4',\n",
       "       'ClmProcedureCode_5', 'ClmProcedureCode_6', 'DeductibleAmtPaid',\n",
       "       'ClmAdmitDiagnosisCode'],\n",
       "      dtype='object')"
      ]
     },
     "execution_count": 6,
     "metadata": {},
     "output_type": "execute_result"
    }
   ],
   "source": [
    "Train_Outpatient.columns"
   ]
  },
  {
   "cell_type": "code",
   "execution_count": 7,
   "metadata": {},
   "outputs": [
    {
     "data": {
      "text/plain": [
       "Index(['BeneID', 'ClaimID', 'ClaimStartDt', 'ClaimEndDt', 'Provider',\n",
       "       'InscClaimAmtReimbursed', 'AttendingPhysician', 'OperatingPhysician',\n",
       "       'OtherPhysician', 'ClmDiagnosisCode_1', 'ClmDiagnosisCode_2',\n",
       "       'ClmDiagnosisCode_3', 'ClmDiagnosisCode_4', 'ClmDiagnosisCode_5',\n",
       "       'ClmDiagnosisCode_6', 'ClmDiagnosisCode_7', 'ClmDiagnosisCode_8',\n",
       "       'ClmDiagnosisCode_9', 'ClmDiagnosisCode_10', 'ClmProcedureCode_1',\n",
       "       'ClmProcedureCode_2', 'ClmProcedureCode_3', 'ClmProcedureCode_4',\n",
       "       'ClmProcedureCode_5', 'ClmProcedureCode_6', 'DeductibleAmtPaid',\n",
       "       'ClmAdmitDiagnosisCode'],\n",
       "      dtype='object')"
      ]
     },
     "execution_count": 7,
     "metadata": {},
     "output_type": "execute_result"
    }
   ],
   "source": [
    "Test_Outpatient.columns"
   ]
  },
  {
   "cell_type": "markdown",
   "metadata": {},
   "source": [
    "#### Outpatient Data (Train and Test):\n",
    "It consists of the claim details for the patients who were not admitted into hospital, who only visited there. Important columns are explained below."
   ]
  },
  {
   "cell_type": "markdown",
   "metadata": {},
   "source": [
    "<b>BeneID:</b> It contains the unique id of each beneficiaries i.e patients. <br>\n",
    "<b>ClaimID:</b> It contains the unique id of the claim submitted by the provider. <br>\n",
    "<b>ClaimStartDt:</b> It contains the date when the claim started in yyyy-mm-dd format. <br>\n",
    "<b>ClaimEndDt:</b> It contains the date when the claim ended in yyyy-mm-dd format. <br>\n",
    "<b>Provider:</b> It contains the unique id of the provider. <br>\n",
    "<b>InscClaimAmtReimbursed:</b> It contains the amount reimbursed for that particular claim. <br>\n",
    "<b>AttendingPhysician:</b> It contains the id of the Physicican who attended the patient. <br>\n",
    "<b>OperatingPhysician:</b> It contains the id of the Physicican who operated the patient. <br>\n",
    "<b>OtherPhysician:</b> It contains the id of the Physicican other than AttendingPhysician and  OperatingPhysician who treated the patient. <br>\n",
    "<b>ClmDiagnosisCode:</b> It contains codes of the diagnosis performed by the provider on the patient for that claim. <br>\n",
    "<b>ClmProcedureCode:</b> It contains the codes of the procedures of the patient for treatment for that particular claim. <br>\n",
    "<b>DeductibleAmtPaid:</b> It consists of the amount by the patient. That is equal to Total_claim_amount - Reimbursed_amount. <br>"
   ]
  },
  {
   "cell_type": "code",
   "execution_count": 8,
   "metadata": {},
   "outputs": [
    {
     "data": {
      "text/plain": [
       "Index(['BeneID', 'ClaimID', 'ClaimStartDt', 'ClaimEndDt', 'Provider',\n",
       "       'InscClaimAmtReimbursed', 'AttendingPhysician', 'OperatingPhysician',\n",
       "       'OtherPhysician', 'AdmissionDt', 'ClmAdmitDiagnosisCode',\n",
       "       'DeductibleAmtPaid', 'DischargeDt', 'DiagnosisGroupCode',\n",
       "       'ClmDiagnosisCode_1', 'ClmDiagnosisCode_2', 'ClmDiagnosisCode_3',\n",
       "       'ClmDiagnosisCode_4', 'ClmDiagnosisCode_5', 'ClmDiagnosisCode_6',\n",
       "       'ClmDiagnosisCode_7', 'ClmDiagnosisCode_8', 'ClmDiagnosisCode_9',\n",
       "       'ClmDiagnosisCode_10', 'ClmProcedureCode_1', 'ClmProcedureCode_2',\n",
       "       'ClmProcedureCode_3', 'ClmProcedureCode_4', 'ClmProcedureCode_5',\n",
       "       'ClmProcedureCode_6'],\n",
       "      dtype='object')"
      ]
     },
     "execution_count": 8,
     "metadata": {},
     "output_type": "execute_result"
    }
   ],
   "source": [
    "Train_Inpatient.columns"
   ]
  },
  {
   "cell_type": "code",
   "execution_count": 9,
   "metadata": {},
   "outputs": [
    {
     "data": {
      "text/plain": [
       "Index(['BeneID', 'ClaimID', 'ClaimStartDt', 'ClaimEndDt', 'Provider',\n",
       "       'InscClaimAmtReimbursed', 'AttendingPhysician', 'OperatingPhysician',\n",
       "       'OtherPhysician', 'AdmissionDt', 'ClmAdmitDiagnosisCode',\n",
       "       'DeductibleAmtPaid', 'DischargeDt', 'DiagnosisGroupCode',\n",
       "       'ClmDiagnosisCode_1', 'ClmDiagnosisCode_2', 'ClmDiagnosisCode_3',\n",
       "       'ClmDiagnosisCode_4', 'ClmDiagnosisCode_5', 'ClmDiagnosisCode_6',\n",
       "       'ClmDiagnosisCode_7', 'ClmDiagnosisCode_8', 'ClmDiagnosisCode_9',\n",
       "       'ClmDiagnosisCode_10', 'ClmProcedureCode_1', 'ClmProcedureCode_2',\n",
       "       'ClmProcedureCode_3', 'ClmProcedureCode_4', 'ClmProcedureCode_5',\n",
       "       'ClmProcedureCode_6'],\n",
       "      dtype='object')"
      ]
     },
     "execution_count": 9,
     "metadata": {},
     "output_type": "execute_result"
    }
   ],
   "source": [
    "Test_Inpatient.columns"
   ]
  },
  {
   "cell_type": "markdown",
   "metadata": {},
   "source": [
    "#### Inpatient Data (Train and Test):\n",
    "It consists of the claim details for the patients who were admitted into hospital. So, it consists 3 extra columns Admission date, Discharge date and Diagnosis Group code."
   ]
  },
  {
   "cell_type": "markdown",
   "metadata": {},
   "source": [
    "<b>AdmissionDt:</b> It contains the date on which the patient was admitted into hospital in yyyy-mm-dd format. <br>\n",
    "<b>DischargeDt:</b> It contains the date on which the patient was discharged from the hospital in yyyy-mm-dd format. <br>\n",
    "<b>DiagnosisGroupCode:</b> It contains group code for the diagnosis done on the patient."
   ]
  },
  {
   "cell_type": "code",
   "execution_count": 10,
   "metadata": {},
   "outputs": [
    {
     "data": {
      "text/plain": [
       "Index(['BeneID', 'DOB', 'DOD', 'Gender', 'Race', 'RenalDiseaseIndicator',\n",
       "       'State', 'County', 'NoOfMonths_PartACov', 'NoOfMonths_PartBCov',\n",
       "       'ChronicCond_Alzheimer', 'ChronicCond_Heartfailure',\n",
       "       'ChronicCond_KidneyDisease', 'ChronicCond_Cancer',\n",
       "       'ChronicCond_ObstrPulmonary', 'ChronicCond_Depression',\n",
       "       'ChronicCond_Diabetes', 'ChronicCond_IschemicHeart',\n",
       "       'ChronicCond_Osteoporasis', 'ChronicCond_rheumatoidarthritis',\n",
       "       'ChronicCond_stroke', 'IPAnnualReimbursementAmt',\n",
       "       'IPAnnualDeductibleAmt', 'OPAnnualReimbursementAmt',\n",
       "       'OPAnnualDeductibleAmt'],\n",
       "      dtype='object')"
      ]
     },
     "execution_count": 10,
     "metadata": {},
     "output_type": "execute_result"
    }
   ],
   "source": [
    "Train_Beneficiary.columns"
   ]
  },
  {
   "cell_type": "code",
   "execution_count": 11,
   "metadata": {},
   "outputs": [
    {
     "data": {
      "text/plain": [
       "Index(['BeneID', 'DOB', 'DOD', 'Gender', 'Race', 'RenalDiseaseIndicator',\n",
       "       'State', 'County', 'NoOfMonths_PartACov', 'NoOfMonths_PartBCov',\n",
       "       'ChronicCond_Alzheimer', 'ChronicCond_Heartfailure',\n",
       "       'ChronicCond_KidneyDisease', 'ChronicCond_Cancer',\n",
       "       'ChronicCond_ObstrPulmonary', 'ChronicCond_Depression',\n",
       "       'ChronicCond_Diabetes', 'ChronicCond_IschemicHeart',\n",
       "       'ChronicCond_Osteoporasis', 'ChronicCond_rheumatoidarthritis',\n",
       "       'ChronicCond_stroke', 'IPAnnualReimbursementAmt',\n",
       "       'IPAnnualDeductibleAmt', 'OPAnnualReimbursementAmt',\n",
       "       'OPAnnualDeductibleAmt'],\n",
       "      dtype='object')"
      ]
     },
     "execution_count": 11,
     "metadata": {},
     "output_type": "execute_result"
    }
   ],
   "source": [
    "Test_Beneficiary.columns"
   ]
  },
  {
   "cell_type": "markdown",
   "metadata": {},
   "source": [
    "<b>Beneficiary Data (Train and Test):</b> This data contains beneficiary KYC details like DOB, DOD, Gender, Race, health conditions (Chronic disease if any), State, Country they belong to etc. Columns of this dataset are explained below."
   ]
  },
  {
   "cell_type": "markdown",
   "metadata": {},
   "source": [
    "<b>BeneID:</b> It contains the unique id of the beneficiary.<br>\n",
    "<b>DOB:</b> It contains the Date of Birth of the beneficiary.<br>\n",
    "<b>DOD:</b> It contains the Date of Death of the beneficiary, if the beneficiary id deal else null.<br>\n",
    "<b>Gender, Race, State, Country:</b> It contains the Gender, Race, State, Country of the beneficiary.<br>\n",
    "<b>RenalDiseaseIndicator:</b> It contains if the patient has existing kidney disease.<br>\n",
    "<b>ChronicCond_*:</b> The columns started with \"ChronicCond_\" indicates if the patient has existing that particular disease. Which also indicates the risk score of that patient.<br>\n",
    "<b>IPAnnualReimbursementAmt:</b> It consists of maximun reimbursement amount for hospitalization anually.<br>\n",
    "<b>IPAnnualDeductibleAmt:</b> It consists of premium paid by the patient for hospitalization anually.<br>\n",
    "<b>OPAnnualReimbursementAmt:</b> It consists of maximun reimbursement amount for outpatient visit anually.<br>\n",
    "<b>OPAnnualDeductibleAmt:</b> It consists of premium paid by the patient for outpatient visit anually.<br>"
   ]
  },
  {
   "cell_type": "code",
   "execution_count": null,
   "metadata": {},
   "outputs": [],
   "source": []
  },
  {
   "cell_type": "markdown",
   "metadata": {},
   "source": [
    "## Performance metric:\n",
    "As the dataset in healthcare fraud is highly imbalanced(very few fraud cases) accuracy won't be the proper metric. An important initial step will be to plot the confusion matrix. Then we need to check the misclassification i.e. FP and FN. FN means the cases predicted by the model is legitimate but actually it is fraudulent. FP means the cases detected by the model is fraudulent, but actually it is legitimate.\n",
    "\n",
    "So, the performance metrices are: <br>\n",
    "<b>1. Confusion Matrix:</b> It is the table where TP, FP, TN, FN counts will be plotted. From this table we can visualize the performance of the model. <br>\n",
    "<b>2. F1 Score:</b> F1 Score = 2(Precision * Recall)/(Precision + Recall) where Precision = TP/(TP+FP) and Recall = TP/(TP+FN). As F1 score consists of both Precision and Pecall it will be correct metric for this problem. <br>\n",
    "<b>3. AUC Score:</b> AUC stands for Area Under ROC(Receiver Operating Characteristics) Curve. ROC plots TPR with respect to FPR for different thresholds. The area under the curve depends on the ranking of the predicted probability score, not on absolute values. <br>\n",
    "<b>4. FPR and FNR:</b> As cost of misclassification is very high, we need to check the FPR and FNR separately, It should be as low as possible."
   ]
  },
  {
   "cell_type": "code",
   "execution_count": 12,
   "metadata": {},
   "outputs": [
    {
     "data": {
      "text/plain": [
       "PotentialFraud\n",
       "No     4904\n",
       "Yes     506\n",
       "Name: Provider, dtype: int64"
      ]
     },
     "execution_count": 12,
     "metadata": {},
     "output_type": "execute_result"
    }
   ],
   "source": [
    "# count the values of fraud and non fraud providers in the given dataset.\n",
    "Train.groupby([\"PotentialFraud\"]).Provider.count()"
   ]
  },
  {
   "cell_type": "code",
   "execution_count": 13,
   "metadata": {},
   "outputs": [
    {
     "data": {
      "image/png": "[encoded data removed]",
      "text/plain": [
       "<Figure size 1000x500 with 1 Axes>"
      ]
     },
     "metadata": {},
     "output_type": "display_data"
    }
   ],
   "source": [
    "import matplotlib.pyplot as plt\n",
    "\n",
    "plt.title(\"Distribution of Providers: Legitimate & Fraud\")\n",
    "Train.groupby([\"PotentialFraud\"]).Provider.count().plot(kind = \"bar\", figsize = (10,5))\n",
    "plt.xlabel('Fradulent Status')\n",
    "plt.ylabel('No of Providers')\n",
    "plt.show()"
   ]
  },
  {
   "cell_type": "markdown",
   "metadata": {},
   "source": [
    "# First Cut Approach\n",
    "Explain in steps about how you want to approach this problem and the initial experiments that you want to do. (MINIMUM 200 words) <br>\n",
    "\n",
    "When you are doing the basic EDA and building the First Cut Approach you should not refer any blogs or papers.\n"
   ]
  },
  {
   "cell_type": "markdown",
   "metadata": {},
   "source": [
    "<h2>Data Cleaning and EDA</h2>\n",
    "\n",
    "First I will check each and every dataset provided and try to extract informations from it.\n",
    "\n",
    "<h4>Provider Dataset:</h4>\n",
    "\n",
    "I will check the distribution of Fraudulent and Non-Fraudulent claims. I have already checked it and I can see there are 506 fraudulent provider(10%) and 4904 non fraudulent providers(90%), which is a highly imbalanced dataset. To mitigate that imbalance I can use either undersampling or oversampling. In a paper discussed above, random undersampling was used because of the very big size of the input data. But here the data size is not big so, I can use random oversampling technique for my case study. (I will try random undersampling as well to check which one is performing best.)\n",
    "\n",
    "<h4>Beneficiary Data:</h4>\n",
    "1. From the KYC details of the beneficiaries I can calculate the age of the patients. For those, whose DOD is not available I will consider the last date available from other dataset.<br>\n",
    "2. I will check for the other columns if there are any missing values. I need to imputhe the missing values based on domain knowledge or model based approach. If any of the chronic disease field is missing I will apply domin knowledge to impute it with yes or no. If annual reimbursement or annual deductible amount field is missing I can create a regression model to predict these values.<br>\n",
    "3. From the chronic disease fields of the patient I can calculate the risk score. If the patient has a particular chronic disease it has to be filled with 1 else 0. I can sum up all the columns of chronic disease for a patient to calculate the risk score. Risk score is an important feature in fraud detection. If patient with low risk score is claiming high amount this is suspicious.<br>\n",
    "4. I will plot countplot of Gender, State, Country to check which are the most occouring in the dataset.<br>\n",
    "5. I will plot PDF of AnnualDeductible amount and AnnualReimbursed amount to check the distribution and also to find the outliers.<br>\n",
    "\n",
    "<h4>Inpatient/Outpatient Data:</h4>\n",
    "1. From the claim start date and claim end date I will calculate total number of days of the claim. If any of the field is missing I will try to apply domain knowledge to impute that. It may be average number of claim date from the other patients or depending on the claim type.\n",
    "2. For all the Inpatients I need to calculate total number of admitted days in hospital in the similar way.\n",
    "3. Need to check Claim Reimbursed amount column. If there is any missing values I have to impute that using domain knowledge or model based approach.\n",
    "4. I will plot the count plot of attending physician, operating ohysician for inpatient as well as outpatient to check which all doctors are treating the patients most.\n",
    "5. I will plot the PDF of reimbursed amount to check the distribution for inpatient as well as outpatient.\n",
    "6. Add another column called \"TotalNoOfPhysiciansAttended\". That is equal to Attending + Operating + Other physicians.\n",
    "7. I will add another column called \"HospitalizationStatus\" in both the datasets, for Inpatients I will fill it with 1 and for outpatients with 0. So that after merging these claims can be distinguished.\n",
    "\n",
    "<h4>Merge Datasets:</h4> I will merge all these datasets to get a global view of the data. First merge Inpatient and Outpatient data based on Claim ID then merge it whih Beneficiary data on BeneficiaryID and then merge the Provider dataset on ProviderID. Now all the data combined in a single dataframe.\n",
    "\n",
    "<h4>Feature Engineering and EDA after Merging the Datasets:</h4>\n",
    "\n",
    "<b>EDA:</b>\n",
    "1. I will plot countplot of Fraudulent and Legitimate claims to check the distribution in the claim data.<br>\n",
    "2. Now I will plot the countplots separately for Fraudulent and Legitimate claims on state, race, gender to check top types associated with fraudulent claims.<br>\n",
    "3. Countplot of Attending and Operating phisician separately for Fraudulent and Legitimate claims and check the top attending physians.<br>\n",
    "\n",
    "<b>Feature Engineering:</b>\n",
    "1. Calculate average reimbursement received by patient. Average reimbursement = Total reimbursement received/no of claims.<br>\n",
    "2. Total number of claims per patient.<br>\n",
    "3. Average number of claim days per parient. Avg no of claim days = Total claim days/ Total no of claims.<br>\n",
    "4. Average number of hospitalization days per patient. Avg no of days hospitalized = Total No of days hospitalized/No of times hospitalized.<br>\n",
    "\n",
    "Now group the data based on ProviderID as our objective is to predict potentially fraudulent providers and take the sum of all the features applicabe(Total amount deducted, total amount reimbursed, risk score of patients, chronic conditions, total number of days admitted, total number of days claimed, number of unique claims, number of impatients, total claims for patient, avg no of days patient was admitted, avg no of hospitalization days etc. )\n",
    "\n",
    "Now I will do feature selection using Random Forest to pick the important features.\n",
    "So, I will get 2 separate dataframes one with all the features another with only important features. I will use both and pick the best one depending on the performance."
   ]
  },
  {
   "cell_type": "markdown",
   "metadata": {},
   "source": [
    "<h2>Performance Metric:</h2>\n",
    "1. AUC score\n",
    "2. F1 Score\n",
    "3. Confusion Matrix\n",
    "4. Check FPR and FNR separately"
   ]
  },
  {
   "cell_type": "markdown",
   "metadata": {},
   "source": [
    "<h2>Train-Test Split and Oversampling:</h2>\n",
    "\n",
    "As our dataset is imbalanced Legitimate:Fraudulent = 90:10, I need to do oversampling. First I will split the data into Train and Test (Because if oversampling is done first, crossvalidation may contain train data) then I will do oversampling to make 4 sets of data with ratio 80:20, 75:25, 65:35 and 50:50."
   ]
  },
  {
   "cell_type": "markdown",
   "metadata": {},
   "source": [
    "<h2>Model Selection and Approach to be followed:</h2>\n",
    "\n",
    "I will use Logistic Regression, Decision Trees, Naive Bayes and SVM for this classification task. For each model, I will do 5 fold cross validation for 10 times then I will take the average. I will compare the scores and pick the best model.\n",
    "\n",
    "I will do further hyperparameter tuning to get better score.\n",
    "\n",
    "For further improvement I will use ensemble models."
   ]
  }
 ],
 "metadata": {
  "kernelspec": {
   "display_name": "Python 3",
   "language": "python",
   "name": "python3"
  },
  "language_info": {
   "codemirror_mode": {
    "name": "ipython",
    "version": 3
   },
   "file_extension": ".py",
   "mimetype": "text/x-python",
   "name": "python",
   "nbconvert_exporter": "python",
   "pygments_lexer": "ipython3",
   "version": "3.11.6"
  }
 },
 "nbformat": 4,
 "nbformat_minor": 2
}
